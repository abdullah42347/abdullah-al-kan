{
 "cells": [
  {
   "cell_type": "code",
   "execution_count": null,
   "metadata": {},
   "outputs": [],
   "source": [
    "deger1=int(input(\"a degerini girin:\"))  #ax**2+bx+c\n",
    "deger2=int(input(\"b degerini girin:\"))   \n",
    "deger3=int(input(\"c degerini girin:\"))\n",
    "print('delta bulma islemi',deger1,deger2,deger3)  #Δ=b2−4ac\n",
    "delta=(deger2**2-4*deger1*deger3)\n",
    "print('delta degeri:',delta)\n",
    "kok1=((-deger2+delta**0.5)/2*deger1) \n",
    "print(kok1)\n",
    "kok2=((-deger2-delta**0.5)/2*deger1)\n",
    "print(kok2)\n",
    "\n"
   ]
  },
  {
   "cell_type": "code",
   "execution_count": null,
   "metadata": {},
   "outputs": [],
   "source": []
  }
 ],
 "metadata": {
  "kernelspec": {
   "display_name": "Python 3",
   "language": "python",
   "name": "python3"
  },
  "language_info": {
   "codemirror_mode": {
    "name": "ipython",
    "version": 3
   },
   "file_extension": ".py",
   "mimetype": "text/x-python",
   "name": "python",
   "nbconvert_exporter": "python",
   "pygments_lexer": "ipython3",
   "version": "3.6.5"
  }
 },
 "nbformat": 4,
 "nbformat_minor": 2
}
